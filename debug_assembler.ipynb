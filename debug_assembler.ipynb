{
 "cells": [
  {
   "cell_type": "code",
   "execution_count": 20,
   "id": "1a8959ad",
   "metadata": {},
   "outputs": [
    {
     "name": "stdout",
     "output_type": "stream",
     "text": [
      "Symbol table:\n",
      "  loop: 0x00000008\n",
      "  end: 0x00000014\n",
      "Encoded instruction: ADD -> 0x00010002\n",
      "Encoded instruction: SUBI -> 0x11030105\n",
      "Encoded instruction: ADDI -> 0x10060601\n",
      "Resolved label 'loop' to address 0x00000008, offset -1\n",
      "Encoded instruction: BNE -> 0x4206FFFF\n",
      "  Registers: R6, R7, Offset: 65535\n",
      "Resolved label 'end' to address 0x00000014, offset 1\n",
      "Encoded instruction: BEQ -> 0x41010001\n",
      "  Registers: R1, R2, Offset: 1\n",
      "Encoded instruction: HALT -> 0x60000000\n",
      "\n",
      "Assembled Instructions:\n",
      "0000: 0x00010002 -> ADD R1, R0, R2\n",
      "0004: 0x11030105 -> SUBI R3, R1, #5\n",
      "0008: 0x10060601 -> ADDI R6, R6, #1\n",
      "000C: 0x4206FFFF -> BNE R6, R255, 65535\n",
      "0010: 0x41010001 -> BEQ R1, R0, 1\n",
      "0014: 0x60000000 -> HALT\n"
     ]
    }
   ],
   "source": [
    "from assembler import Assembler\n",
    "\n",
    "# Create an instance with debug enabled\n",
    "assembler = Assembler()\n",
    "assembler.debug = True\n",
    "\n",
    "# Test assembly code with branch instructions\n",
    "test_code = \"\"\"\n",
    "; Test branch instructions\n",
    "ADD R1, R0, R2    ; R1 = R0 + R2\n",
    "SUBI R3, R1, #5   ; R3 = R1 - 5\n",
    "\n",
    "; Label definition\n",
    "loop:\n",
    "    ADDI R6, R6, #1\n",
    "    BNE R6, R7, loop\n",
    "    BEQ R1, R2, end\n",
    "\n",
    "end:\n",
    "    HALT\n",
    "\"\"\"\n",
    "\n",
    "# Assemble the code\n",
    "instructions = assembler.assemble(test_code)\n",
    "\n",
    "# Print the assembled instructions and their disassembly\n",
    "if instructions:\n",
    "    print(\"\\nAssembled Instructions:\")\n",
    "    for i, instr in enumerate(instructions):\n",
    "        print(f\"{i*4:04X}: 0x{instr:08X} -> {assembler.disassemble(instr)}\")\n",
    "else:\n",
    "    print(\"Assembly failed with errors:\")\n",
    "    for error in assembler.errors:\n",
    "        print(f\"  {error}\")"
   ]
  }
 ],
 "metadata": {
  "kernelspec": {
   "display_name": "venv",
   "language": "python",
   "name": "python3"
  },
  "language_info": {
   "codemirror_mode": {
    "name": "ipython",
    "version": 3
   },
   "file_extension": ".py",
   "mimetype": "text/x-python",
   "name": "python",
   "nbconvert_exporter": "python",
   "pygments_lexer": "ipython3",
   "version": "3.9.0"
  }
 },
 "nbformat": 4,
 "nbformat_minor": 5
}
